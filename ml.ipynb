{
 "cells": [
  {
   "cell_type": "code",
   "execution_count": 1,
   "metadata": {},
   "outputs": [],
   "source": [
    "import numpy as np\n",
    "import pandas as pd\n",
    "import warnings\n",
    "warnings.filterwarnings(\"ignore\")"
   ]
  },
  {
   "cell_type": "code",
   "execution_count": 2,
   "metadata": {
    "jupyter": {
     "outputs_hidden": false,
     "source_hidden": false
    },
    "nteract": {
     "transient": {
      "deleting": false
     }
    }
   },
   "outputs": [],
   "source": [
    "demo=pd.read_csv('demographic.csv')\n",
    "diet=pd.read_csv('diet.csv')\n",
    "exam=pd.read_csv('examination.csv')\n",
    "labs=pd.read_csv('labs.csv')\n",
    "medi=pd.read_csv('medications.csv',encoding='latin1')\n",
    "ques=pd.read_csv('questionnaire.csv')"
   ]
  },
  {
   "cell_type": "code",
   "execution_count": 3,
   "metadata": {
    "jupyter": {
     "outputs_hidden": false,
     "source_hidden": false
    },
    "nteract": {
     "transient": {
      "deleting": false
     }
    }
   },
   "outputs": [],
   "source": [
    "#merge datasets\n",
    "df = demo.join(diet.set_index('SEQN'), on='SEQN', how='inner')\n",
    "df = df.join(exam.set_index('SEQN'), on='SEQN', how='inner')\n",
    "df = df.join(labs.set_index('SEQN'), on='SEQN', how='inner')\n",
    "#df = df.join(medi.set_index('SEQN'), on='SEQN', how='inner')\n",
    "df = df.join(ques.set_index('SEQN'), on='SEQN', how='inner')\n",
    "df=df.dropna(axis=1,how='all')\n",
    "df=df.dropna(axis=0,how='all')"
   ]
  },
  {
   "cell_type": "code",
   "execution_count": 4,
   "metadata": {
    "jupyter": {
     "outputs_hidden": false,
     "source_hidden": false
    },
    "nteract": {
     "transient": {
      "deleting": false
     }
    }
   },
   "outputs": [
    {
     "data": {
      "text/plain": [
       "(9813, 10)"
      ]
     },
     "execution_count": 4,
     "metadata": {},
     "output_type": "execute_result"
    }
   ],
   "source": [
    "#select features\n",
    "df=df.loc[:,['SEQN', 'RIAGENDR', 'INDFMPIR', 'LBXGH', 'DBD100', 'DMDEDUC2', 'RIDAGEYR', 'BMXBMI', 'BMDAVSAD', 'MGDCGSZ']]\n",
    "df.columns = ['SEQN','Gender','Family_income','LBXGH','Salt_level','Education_level','Age','BMI','Abdominal_size','Grip_strength']\n",
    "df=df.dropna(axis=1,how='all')\n",
    "df=df.dropna(axis=0,how='all')\n",
    "df.shape"
   ]
  },
  {
   "cell_type": "code",
   "execution_count": 5,
   "metadata": {
    "jupyter": {
     "outputs_hidden": false,
     "source_hidden": false
    },
    "nteract": {
     "transient": {
      "deleting": false
     }
    }
   },
   "outputs": [
    {
     "data": {
      "text/html": [
       "<div>\n",
       "<style scoped>\n",
       "    .dataframe tbody tr th:only-of-type {\n",
       "        vertical-align: middle;\n",
       "    }\n",
       "\n",
       "    .dataframe tbody tr th {\n",
       "        vertical-align: top;\n",
       "    }\n",
       "\n",
       "    .dataframe thead th {\n",
       "        text-align: right;\n",
       "    }\n",
       "</style>\n",
       "<table border=\"1\" class=\"dataframe\">\n",
       "  <thead>\n",
       "    <tr style=\"text-align: right;\">\n",
       "      <th></th>\n",
       "      <th>SEQN</th>\n",
       "      <th>Gender</th>\n",
       "      <th>Family_income</th>\n",
       "      <th>LBXGH</th>\n",
       "      <th>Salt_level</th>\n",
       "      <th>Education_level</th>\n",
       "      <th>Age</th>\n",
       "      <th>BMI</th>\n",
       "      <th>Abdominal_size</th>\n",
       "      <th>Grip_strength</th>\n",
       "    </tr>\n",
       "  </thead>\n",
       "  <tbody>\n",
       "    <tr>\n",
       "      <th>count</th>\n",
       "      <td>9083.000000</td>\n",
       "      <td>9083.000000</td>\n",
       "      <td>9083.000000</td>\n",
       "      <td>9083.000000</td>\n",
       "      <td>9083.000000</td>\n",
       "      <td>9083.000000</td>\n",
       "      <td>9083.000000</td>\n",
       "      <td>9083.000000</td>\n",
       "      <td>9083.000000</td>\n",
       "      <td>9083.000000</td>\n",
       "    </tr>\n",
       "    <tr>\n",
       "      <th>mean</th>\n",
       "      <td>78641.697016</td>\n",
       "      <td>1.508092</td>\n",
       "      <td>2.248930</td>\n",
       "      <td>5.643572</td>\n",
       "      <td>1.361775</td>\n",
       "      <td>3.742816</td>\n",
       "      <td>31.524386</td>\n",
       "      <td>25.670061</td>\n",
       "      <td>21.116572</td>\n",
       "      <td>63.026197</td>\n",
       "    </tr>\n",
       "    <tr>\n",
       "      <th>std</th>\n",
       "      <td>2935.838385</td>\n",
       "      <td>0.499962</td>\n",
       "      <td>1.629325</td>\n",
       "      <td>0.832025</td>\n",
       "      <td>0.684011</td>\n",
       "      <td>0.946209</td>\n",
       "      <td>24.381378</td>\n",
       "      <td>7.700796</td>\n",
       "      <td>4.288664</td>\n",
       "      <td>22.280017</td>\n",
       "    </tr>\n",
       "    <tr>\n",
       "      <th>min</th>\n",
       "      <td>73557.000000</td>\n",
       "      <td>1.000000</td>\n",
       "      <td>0.000000</td>\n",
       "      <td>3.500000</td>\n",
       "      <td>1.000000</td>\n",
       "      <td>1.000000</td>\n",
       "      <td>0.000000</td>\n",
       "      <td>12.100000</td>\n",
       "      <td>10.100000</td>\n",
       "      <td>8.000000</td>\n",
       "    </tr>\n",
       "    <tr>\n",
       "      <th>25%</th>\n",
       "      <td>76101.500000</td>\n",
       "      <td>1.000000</td>\n",
       "      <td>0.880000</td>\n",
       "      <td>5.300000</td>\n",
       "      <td>1.000000</td>\n",
       "      <td>4.000000</td>\n",
       "      <td>10.000000</td>\n",
       "      <td>20.100000</td>\n",
       "      <td>18.500000</td>\n",
       "      <td>50.300000</td>\n",
       "    </tr>\n",
       "    <tr>\n",
       "      <th>50%</th>\n",
       "      <td>78634.000000</td>\n",
       "      <td>2.000000</td>\n",
       "      <td>1.700000</td>\n",
       "      <td>5.643572</td>\n",
       "      <td>1.000000</td>\n",
       "      <td>4.000000</td>\n",
       "      <td>26.000000</td>\n",
       "      <td>25.600000</td>\n",
       "      <td>21.116572</td>\n",
       "      <td>63.026197</td>\n",
       "    </tr>\n",
       "    <tr>\n",
       "      <th>75%</th>\n",
       "      <td>81174.500000</td>\n",
       "      <td>2.000000</td>\n",
       "      <td>3.580000</td>\n",
       "      <td>5.643572</td>\n",
       "      <td>2.000000</td>\n",
       "      <td>4.000000</td>\n",
       "      <td>52.000000</td>\n",
       "      <td>29.600000</td>\n",
       "      <td>22.900000</td>\n",
       "      <td>73.300000</td>\n",
       "    </tr>\n",
       "    <tr>\n",
       "      <th>max</th>\n",
       "      <td>83731.000000</td>\n",
       "      <td>2.000000</td>\n",
       "      <td>5.000000</td>\n",
       "      <td>17.500000</td>\n",
       "      <td>9.000000</td>\n",
       "      <td>9.000000</td>\n",
       "      <td>80.000000</td>\n",
       "      <td>82.900000</td>\n",
       "      <td>40.100000</td>\n",
       "      <td>162.800000</td>\n",
       "    </tr>\n",
       "  </tbody>\n",
       "</table>\n",
       "</div>"
      ],
      "text/plain": [
       "               SEQN       Gender  Family_income        LBXGH   Salt_level  \\\n",
       "count   9083.000000  9083.000000    9083.000000  9083.000000  9083.000000   \n",
       "mean   78641.697016     1.508092       2.248930     5.643572     1.361775   \n",
       "std     2935.838385     0.499962       1.629325     0.832025     0.684011   \n",
       "min    73557.000000     1.000000       0.000000     3.500000     1.000000   \n",
       "25%    76101.500000     1.000000       0.880000     5.300000     1.000000   \n",
       "50%    78634.000000     2.000000       1.700000     5.643572     1.000000   \n",
       "75%    81174.500000     2.000000       3.580000     5.643572     2.000000   \n",
       "max    83731.000000     2.000000       5.000000    17.500000     9.000000   \n",
       "\n",
       "       Education_level          Age          BMI  Abdominal_size  \\\n",
       "count      9083.000000  9083.000000  9083.000000     9083.000000   \n",
       "mean          3.742816    31.524386    25.670061       21.116572   \n",
       "std           0.946209    24.381378     7.700796        4.288664   \n",
       "min           1.000000     0.000000    12.100000       10.100000   \n",
       "25%           4.000000    10.000000    20.100000       18.500000   \n",
       "50%           4.000000    26.000000    25.600000       21.116572   \n",
       "75%           4.000000    52.000000    29.600000       22.900000   \n",
       "max           9.000000    80.000000    82.900000       40.100000   \n",
       "\n",
       "       Grip_strength  \n",
       "count    9083.000000  \n",
       "mean       63.026197  \n",
       "std        22.280017  \n",
       "min         8.000000  \n",
       "25%        50.300000  \n",
       "50%        63.026197  \n",
       "75%        73.300000  \n",
       "max       162.800000  "
      ]
     },
     "execution_count": 5,
     "metadata": {},
     "output_type": "execute_result"
    }
   ],
   "source": [
    "#deal with nan value\n",
    "df = df[df['Family_income'].notnull()]\n",
    "df['LBXGH']=df['LBXGH'].fillna(df['LBXGH'].mean())\n",
    "df['Salt_level']=df['Salt_level'].fillna(df['Salt_level'].median())\n",
    "df['Education_level']=df['Education_level'].fillna(df['Education_level'].median())\n",
    "df['BMI']=df['BMI'].fillna(df['BMI'].mean())\n",
    "df['Abdominal_size']=df['Abdominal_size'].fillna(df['Abdominal_size'].mean())\n",
    "df['Grip_strength']=df['Grip_strength'].fillna(df['Grip_strength'].mean())\n",
    "df.describe()"
   ]
  },
  {
   "cell_type": "code",
   "execution_count": 6,
   "metadata": {
    "jupyter": {
     "outputs_hidden": false,
     "source_hidden": false
    },
    "nteract": {
     "transient": {
      "deleting": false
     }
    }
   },
   "outputs": [
    {
     "data": {
      "text/html": [
       "<div>\n",
       "<style scoped>\n",
       "    .dataframe tbody tr th:only-of-type {\n",
       "        vertical-align: middle;\n",
       "    }\n",
       "\n",
       "    .dataframe tbody tr th {\n",
       "        vertical-align: top;\n",
       "    }\n",
       "\n",
       "    .dataframe thead th {\n",
       "        text-align: right;\n",
       "    }\n",
       "</style>\n",
       "<table border=\"1\" class=\"dataframe\">\n",
       "  <thead>\n",
       "    <tr style=\"text-align: right;\">\n",
       "      <th></th>\n",
       "      <th>SEQN</th>\n",
       "      <th>Gender</th>\n",
       "      <th>Family_income</th>\n",
       "      <th>Salt_level</th>\n",
       "      <th>Education_level</th>\n",
       "      <th>Age</th>\n",
       "      <th>BMI</th>\n",
       "      <th>Abdominal_size</th>\n",
       "      <th>Grip_strength</th>\n",
       "      <th>Diabetes</th>\n",
       "    </tr>\n",
       "  </thead>\n",
       "  <tbody>\n",
       "    <tr>\n",
       "      <th>0</th>\n",
       "      <td>73557</td>\n",
       "      <td>1</td>\n",
       "      <td>0.84</td>\n",
       "      <td>2</td>\n",
       "      <td>3</td>\n",
       "      <td>69</td>\n",
       "      <td>26.7</td>\n",
       "      <td>20.600000</td>\n",
       "      <td>55.2</td>\n",
       "      <td>1</td>\n",
       "    </tr>\n",
       "    <tr>\n",
       "      <th>1</th>\n",
       "      <td>73558</td>\n",
       "      <td>1</td>\n",
       "      <td>1.78</td>\n",
       "      <td>2</td>\n",
       "      <td>3</td>\n",
       "      <td>54</td>\n",
       "      <td>28.6</td>\n",
       "      <td>24.400000</td>\n",
       "      <td>61.5</td>\n",
       "      <td>1</td>\n",
       "    </tr>\n",
       "    <tr>\n",
       "      <th>2</th>\n",
       "      <td>73559</td>\n",
       "      <td>1</td>\n",
       "      <td>4.51</td>\n",
       "      <td>1</td>\n",
       "      <td>4</td>\n",
       "      <td>72</td>\n",
       "      <td>28.9</td>\n",
       "      <td>25.600000</td>\n",
       "      <td>91.0</td>\n",
       "      <td>1</td>\n",
       "    </tr>\n",
       "    <tr>\n",
       "      <th>3</th>\n",
       "      <td>73560</td>\n",
       "      <td>1</td>\n",
       "      <td>2.52</td>\n",
       "      <td>1</td>\n",
       "      <td>4</td>\n",
       "      <td>9</td>\n",
       "      <td>17.1</td>\n",
       "      <td>14.900000</td>\n",
       "      <td>32.2</td>\n",
       "      <td>0</td>\n",
       "    </tr>\n",
       "    <tr>\n",
       "      <th>4</th>\n",
       "      <td>73561</td>\n",
       "      <td>2</td>\n",
       "      <td>5.00</td>\n",
       "      <td>1</td>\n",
       "      <td>5</td>\n",
       "      <td>73</td>\n",
       "      <td>19.7</td>\n",
       "      <td>21.116572</td>\n",
       "      <td>30.9</td>\n",
       "      <td>0</td>\n",
       "    </tr>\n",
       "  </tbody>\n",
       "</table>\n",
       "</div>"
      ],
      "text/plain": [
       "    SEQN  Gender  Family_income  Salt_level  Education_level  Age   BMI  \\\n",
       "0  73557       1           0.84           2                3   69  26.7   \n",
       "1  73558       1           1.78           2                3   54  28.6   \n",
       "2  73559       1           4.51           1                4   72  28.9   \n",
       "3  73560       1           2.52           1                4    9  17.1   \n",
       "4  73561       2           5.00           1                5   73  19.7   \n",
       "\n",
       "   Abdominal_size  Grip_strength  Diabetes  \n",
       "0       20.600000           55.2         1  \n",
       "1       24.400000           61.5         1  \n",
       "2       25.600000           91.0         1  \n",
       "3       14.900000           32.2         0  \n",
       "4       21.116572           30.9         0  "
      ]
     },
     "execution_count": 6,
     "metadata": {},
     "output_type": "execute_result"
    }
   ],
   "source": [
    "#target variable\n",
    "df.loc[df['LBXGH']<6.0, 'Diabetes']=0\n",
    "df.loc[df['LBXGH']>=6.0, 'Diabetes']=1\n",
    "df=df.drop('LBXGH',axis=1)\n",
    "df=df.astype({'Salt_level':'int64','Education_level':'int64','Diabetes':'int64'})\n",
    "df.head()"
   ]
  },
  {
   "cell_type": "code",
   "execution_count": 13,
   "metadata": {
    "jupyter": {
     "outputs_hidden": false,
     "source_hidden": false
    },
    "nteract": {
     "transient": {
      "deleting": false
     }
    }
   },
   "outputs": [
    {
     "name": "stdout",
     "output_type": "stream",
     "text": [
      "(7266, 9) (1817, 9)\n"
     ]
    }
   ],
   "source": [
    "#split train-test\n",
    "from sklearn.model_selection import train_test_split\n",
    "from sklearn import preprocessing\n",
    "X=df.drop('Diabetes',axis=1)\n",
    "y=df['Diabetes']\n",
    "X_train,X_test,y_train,y_test=train_test_split(X,y,test_size=0.2,random_state=123)\n",
    "#X_val, X_test, y_val, y_test=train_test_split(X_test, y_test, test_size=0.5)\n",
    "print(X_train.shape,X_test.shape)"
   ]
  },
  {
   "cell_type": "code",
   "execution_count": 226,
   "metadata": {
    "collapsed": true,
    "jupyter": {
     "outputs_hidden": false,
     "source_hidden": false
    },
    "nteract": {
     "transient": {
      "deleting": false
     }
    }
   },
   "outputs": [
    {
     "data": {
      "text/plain": [
       "(1746, 10)"
      ]
     },
     "execution_count": 226,
     "metadata": {},
     "output_type": "execute_result"
    }
   ],
   "source": [
    "#downsample training set\n",
    "#from sklearn.utils import resample\n",
    "#train=pd.concat([X_train,y_train],axis=1)\n",
    "#major=train[train['Diabetes']==0]\n",
    "#minor=train[train['Diabetes']==1]\n",
    "#major_down=resample(major, replace=False, n_samples=minor.shape[0], random_state=123) \n",
    "#train_down=pd.concat([major_down,minor])\n",
    "#X_train=train_down.drop('Diabetes',axis=1)\n",
    "#y_train=train_down['Diabetes']"
   ]
  },
  {
   "cell_type": "code",
   "execution_count": 14,
   "metadata": {
    "jupyter": {
     "outputs_hidden": false,
     "source_hidden": false
    },
    "nteract": {
     "transient": {
      "deleting": false
     }
    }
   },
   "outputs": [
    {
     "name": "stdout",
     "output_type": "stream",
     "text": [
      "0.8365437534397359 0.5308056872037914\n"
     ]
    }
   ],
   "source": [
    "#lr\n",
    "from sklearn.model_selection import GridSearchCV\n",
    "from sklearn.linear_model import LogisticRegression\n",
    "from sklearn.metrics import f1_score\n",
    "lr=LogisticRegression()\n",
    "params={'class_weight':[{1:3},{1:3.5},{1:4},{1:4.5},{1:10},'balanced'], 'C':[0.5,0.8,1,2,5,10], 'tol':[1e-4,1e-6]}\n",
    "gs=GridSearchCV(lr, params,'f1')\n",
    "gs.fit(X_train,y_train)\n",
    "clf=gs.best_estimator_\n",
    "y_pred = clf.predict(X_test)\n",
    "mean_accu=clf.score(X_test,y_test)\n",
    "f1=f1_score(y_test,y_pred)\n",
    "print(mean_accu, f1)"
   ]
  },
  {
   "cell_type": "code",
   "execution_count": 16,
   "metadata": {
    "jupyter": {
     "outputs_hidden": false,
     "source_hidden": false
    },
    "nteract": {
     "transient": {
      "deleting": false
     }
    }
   },
   "outputs": [
    {
     "name": "stdout",
     "output_type": "stream",
     "text": [
      "0.8458998348926803 0.5469255663430421\n"
     ]
    }
   ],
   "source": [
    "#random forest\n",
    "from sklearn.ensemble import RandomForestClassifier\n",
    "rf=RandomForestClassifier()\n",
    "params={'class_weight':[{1:3},{1:3.5},{1:4},{1:4.5},{1:10},'balanced','balanced_subsample'],'n_estimators':[25,50,100],'max_depth':[2, 5,10,20,50,100]}\n",
    "gs=GridSearchCV(rf, params,'f1')\n",
    "gs.fit(X_train,y_train)\n",
    "clf=gs.best_estimator_\n",
    "y_pred = clf.predict(X_test)\n",
    "mean_accu=clf.score(X_test,y_test)\n",
    "f1=f1_score(y_test,y_pred)\n",
    "print(mean_accu, f1)"
   ]
  },
  {
   "cell_type": "code",
   "execution_count": 17,
   "metadata": {
    "jupyter": {
     "outputs_hidden": false,
     "source_hidden": false
    },
    "nteract": {
     "transient": {
      "deleting": false
     }
    }
   },
   "outputs": [],
   "source": [
    "#save random forest\n",
    "import pickle\n",
    "model=gs.best_estimator_\n",
    "filename = 'trained_randomforest.pkl'\n",
    "pickle.dump(model, open(filename, 'wb'))"
   ]
  },
  {
   "cell_type": "code",
   "execution_count": null,
   "metadata": {},
   "outputs": [],
   "source": []
  }
 ],
 "metadata": {
  "kernel_info": {
   "name": "python3-azureml"
  },
  "kernelspec": {
   "display_name": "Python 3",
   "language": "python",
   "name": "python3"
  },
  "language_info": {
   "codemirror_mode": {
    "name": "ipython",
    "version": 3
   },
   "file_extension": ".py",
   "mimetype": "text/x-python",
   "name": "python",
   "nbconvert_exporter": "python",
   "pygments_lexer": "ipython3",
   "version": "3.7.6"
  },
  "nteract": {
   "version": "nteract-front-end@1.0.0"
  }
 },
 "nbformat": 4,
 "nbformat_minor": 2
}
